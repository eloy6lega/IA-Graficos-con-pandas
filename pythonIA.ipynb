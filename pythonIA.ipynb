{
 "cells": [
  {
   "cell_type": "markdown",
   "id": "8bf514c8",
   "metadata": {},
   "source": [
    "Python en Inteligencia Artificial\n",
    "\n",
    "https://aprendeia.com/agrupando-los-datos-con-python/\n",
    "\n",
    "https://www.analyticslane.com/2018/07/06/agrupacion-de-datos-por-fecha-en-pandas/"
   ]
  },
  {
   "cell_type": "code",
   "execution_count": null,
   "id": "2ce50c1c",
   "metadata": {},
   "outputs": [],
   "source": []
  }
 ],
 "metadata": {
  "kernelspec": {
   "display_name": "Python 3 (ipykernel)",
   "language": "python",
   "name": "python3"
  },
  "language_info": {
   "codemirror_mode": {
    "name": "ipython",
    "version": 3
   },
   "file_extension": ".py",
   "mimetype": "text/x-python",
   "name": "python",
   "nbconvert_exporter": "python",
   "pygments_lexer": "ipython3",
   "version": "3.9.13"
  }
 },
 "nbformat": 4,
 "nbformat_minor": 5
}
